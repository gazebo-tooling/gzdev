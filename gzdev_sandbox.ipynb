{
 "cells": [
  {
   "cell_type": "markdown",
   "metadata": {},
   "source": [
    "## Usage"
   ]
  },
  {
   "cell_type": "markdown",
   "metadata": {},
   "source": [
    "**Display gzdev-core help message**"
   ]
  },
  {
   "cell_type": "code",
   "execution_count": 1,
   "metadata": {},
   "outputs": [
    {
     "name": "stdout",
     "output_type": "stream",
     "text": [
      "Gazebo Dev Tool.\n",
      "\n",
      "Usage:\n",
      "\tgzdev [--version] [--help]\n",
      "\t      <command> [<args>...]\n",
      "\tgzdev -h | --help\n",
      "\tgzdev --version\n",
      "\n",
      "Options:\n",
      "\t-h --help      Show this screen.\n",
      "\t--version      Show gzdev's version.\n",
      "\n",
      "Commands/Plugins:\n",
      "\tspawn          Spawn a virtual environment ready for development.\n"
     ]
    }
   ],
   "source": [
    "%%bash\n",
    "./gzdev --help"
   ]
  },
  {
   "cell_type": "markdown",
   "metadata": {},
   "source": [
    "**Display gzdev-spawn help message**"
   ]
  },
  {
   "cell_type": "code",
   "execution_count": 2,
   "metadata": {},
   "outputs": [
    {
     "name": "stdout",
     "output_type": "stream",
     "text": [
      "Usage:\n",
      "\tgzdev spawn [<gzv> | --gzv=<number>]\n",
      "\t            [<ros> | --ros=<distro_name>]\n",
      "\t            [<config> | --config=<file_name>]\n",
      "\t            [<pr> | --pr=<number>]\n",
      "\t            [--yes]\n",
      "\tgzdev spawn -h | --help\n",
      "\tgzdev spawn --version\n",
      "\n",
      "Options:\n",
      "\t-h --help               Show this screen.\n",
      "\t--version               Show gzdev's version.\n",
      "\t--gzv=<number>          Gazebo version number.\n",
      "\t--ros=<distro_name>     ROS distribution name.\n",
      "\t--config=<file_name>    Gazebo world configuration file.\n",
      "\t--pr=<number>           Gazebo branch to compile from based on Pull Request #.\n",
      "\t--yes                   Confirm selection of unofficial ROS + Gazebo version.\n"
     ]
    }
   ],
   "source": [
    "%%bash\n",
    "./gzdev spawn --help"
   ]
  },
  {
   "cell_type": "markdown",
   "metadata": {},
   "source": [
    "**Display version info**"
   ]
  },
  {
   "cell_type": "code",
   "execution_count": 3,
   "metadata": {},
   "outputs": [
    {
     "name": "stdout",
     "output_type": "stream",
     "text": [
      "gzdev-core 0.1\n",
      "gzdev-spawn 0.1\n"
     ]
    }
   ],
   "source": [
    "%%bash\n",
    "./gzdev --version\n",
    "./gzdev spawn --version"
   ]
  },
  {
   "cell_type": "markdown",
   "metadata": {},
   "source": [
    "## Examples"
   ]
  },
  {
   "cell_type": "markdown",
   "metadata": {},
   "source": [
    "**Using all arguments**"
   ]
  },
  {
   "cell_type": "code",
   "execution_count": 4,
   "metadata": {},
   "outputs": [
    {
     "name": "stdout",
     "output_type": "stream",
     "text": [
      "\n",
      "Spawning docker container for Gazebo 7 + ROS kinetic running world configuration world.yml from PR #2323.\n",
      "\n",
      "\n",
      "Spawning docker container for Gazebo 7 + ROS kinetic running world configuration world.yml from PR #2323.\n",
      "\n",
      "\n",
      "Spawning docker container for Gazebo 7 + ROS kinetic running world configuration world.yml from PR #2323.\n",
      "\n",
      "\n",
      "Spawning docker container for Gazebo 7 + ROS kinetic running world configuration world.yml from PR #2323.\n",
      "\n"
     ]
    }
   ],
   "source": [
    "%%bash\n",
    "# Using positional arguments\n",
    "./gzdev spawn 7 kinetic world.yml 2323\n",
    "\n",
    "# Using explicit options\n",
    "./gzdev spawn --gzv=7 --ros=kinetic --config=world.yml --pr=2323\n",
    "\n",
    "# Mix and matching\n",
    "./gzdev spawn 7 kinetic --config=world.yml --pr=2323\n",
    "\n",
    "# Diferent ordering\n",
    "./gzdev spawn --config=world.yml --pr=2323 --ros=kinetic --gzv=7"
   ]
  },
  {
   "cell_type": "markdown",
   "metadata": {},
   "source": [
    "**Using only gazebo/ros options**"
   ]
  },
  {
   "cell_type": "code",
   "execution_count": 5,
   "metadata": {},
   "outputs": [
    {
     "name": "stdout",
     "output_type": "stream",
     "text": [
      "\n",
      "Spawning docker container for Gazebo 9.\n",
      "\n",
      "\n",
      "Spawning docker container for Gazebo 9 + ROS melodic.\n",
      "\n",
      "\n",
      "Spawning docker container for Gazebo 2 + ROS indigo.\n",
      "\n"
     ]
    }
   ],
   "source": [
    "%%bash\n",
    "./gzdev spawn 9\n",
    "./gzdev spawn 9 melodic\n",
    "./gzdev spawn --ros=indigo 2 "
   ]
  },
  {
   "cell_type": "markdown",
   "metadata": {},
   "source": [
    "**Auto-selecting official Gazebo version based on selected ROS distribution**"
   ]
  },
  {
   "cell_type": "code",
   "execution_count": 6,
   "metadata": {},
   "outputs": [
    {
     "name": "stdout",
     "output_type": "stream",
     "text": [
      "\n",
      "Spawning docker container for Gazebo 9 + ROS melodic.\n",
      "\n",
      "\n",
      "Spawning docker container for Gazebo 7 + ROS lunar.\n",
      "\n",
      "\n",
      "Spawning docker container for Gazebo 7 + ROS kinetic.\n",
      "\n",
      "\n",
      "Spawning docker container for Gazebo 5 + ROS jade.\n",
      "\n",
      "\n",
      "Spawning docker container for Gazebo 2 + ROS indigo.\n",
      "\n"
     ]
    }
   ],
   "source": [
    "%%bash\n",
    "./gzdev spawn --ros=melodic\n",
    "./gzdev spawn --ros=lunar\n",
    "./gzdev spawn --ros=kinetic\n",
    "./gzdev spawn --ros=jade\n",
    "./gzdev spawn --ros=indigo"
   ]
  },
  {
   "cell_type": "markdown",
   "metadata": {},
   "source": [
    "**Warning when selecting unofficial Gazebo + ROS combination**"
   ]
  },
  {
   "cell_type": "code",
   "execution_count": 7,
   "metadata": {},
   "outputs": [
    {
     "name": "stdout",
     "output_type": "stream",
     "text": [
      "WARNING: Unofficial Gazebo 9 + ROS kinetic version selected!\n",
      "We recommend using Gazebo 7 + ROS kinetic :)\n",
      "\n",
      "    * If you know what you are doing add option --y to confirm selection and continue.\n",
      "    * Otherwise, please visit http://gazebosim.org/tutorials?tut=ros_wrapper_versions for more info.\n",
      "\n"
     ]
    }
   ],
   "source": [
    "%%bash\n",
    "./gzdev spawn 9 kinetic"
   ]
  },
  {
   "cell_type": "markdown",
   "metadata": {},
   "source": [
    "**Providing confirmation of unofficial Gazebo + ROS combination**"
   ]
  },
  {
   "cell_type": "code",
   "execution_count": 8,
   "metadata": {},
   "outputs": [
    {
     "name": "stdout",
     "output_type": "stream",
     "text": [
      "\n",
      "Spawning docker container for Gazebo 9 + ROS kinetic.\n",
      "\n"
     ]
    }
   ],
   "source": [
    "%%bash\n",
    "./gzdev spawn 9 kinetic --yes"
   ]
  }
 ],
 "metadata": {
  "kernelspec": {
   "display_name": "Python 3",
   "language": "python",
   "name": "python3"
  },
  "language_info": {
   "codemirror_mode": {
    "name": "ipython",
    "version": 3
   },
   "file_extension": ".py",
   "mimetype": "text/x-python",
   "name": "python",
   "nbconvert_exporter": "python",
   "pygments_lexer": "ipython3",
   "version": "3.6.5"
  }
 },
 "nbformat": 4,
 "nbformat_minor": 2
}
